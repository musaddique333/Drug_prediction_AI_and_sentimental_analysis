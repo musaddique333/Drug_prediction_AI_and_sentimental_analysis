{
 "cells": [
  {
   "attachments": {},
   "cell_type": "markdown",
   "metadata": {},
   "source": [
    "# Multi-Domain Sentiment Analysis"
   ]
  },
  {
   "attachments": {},
   "cell_type": "markdown",
   "metadata": {},
   "source": [
    "## importing the libraries"
   ]
  },
  {
   "cell_type": "code",
   "execution_count": 1,
   "metadata": {},
   "outputs": [],
   "source": [
    "import numpy as np\n",
    "import pandas as pd\n",
    "import warnings\n",
    "warnings.filterwarnings('ignore')\n",
    "import tensorflow as tf\n",
    "tf.config.set_visible_devices([], 'GPU')"
   ]
  },
  {
   "attachments": {},
   "cell_type": "markdown",
   "metadata": {},
   "source": [
    "## importing the dataset"
   ]
  },
  {
   "cell_type": "code",
   "execution_count": 2,
   "metadata": {},
   "outputs": [],
   "source": [
    "train_data = pd.read_csv('/Users/mohmmadmusaddique/Sentimental Analysis/Datasets/drugsComTrain_raw.tsv', on_bad_lines='skip', delimiter='\\t')\n",
    "test_data = pd.read_csv('/Users/mohmmadmusaddique/Sentimental Analysis/Datasets/drugsComTest_raw.tsv', on_bad_lines='skip', delimiter='\\t')\n",
    "data = pd.concat([train_data, test_data], axis=0)"
   ]
  },
  {
   "attachments": {},
   "cell_type": "markdown",
   "metadata": {},
   "source": [
    "## Data preprocessing"
   ]
  },
  {
   "cell_type": "code",
   "execution_count": 3,
   "metadata": {},
   "outputs": [],
   "source": [
    "# Dropping the columns which are not required\n",
    "data.drop(['Unnamed: 0', 'date'], axis=1, inplace=True)"
   ]
  },
  {
   "cell_type": "code",
   "execution_count": 4,
   "metadata": {},
   "outputs": [
    {
     "data": {
      "text/html": [
       "<div>\n",
       "<style scoped>\n",
       "    .dataframe tbody tr th:only-of-type {\n",
       "        vertical-align: middle;\n",
       "    }\n",
       "\n",
       "    .dataframe tbody tr th {\n",
       "        vertical-align: top;\n",
       "    }\n",
       "\n",
       "    .dataframe thead th {\n",
       "        text-align: right;\n",
       "    }\n",
       "</style>\n",
       "<table border=\"1\" class=\"dataframe\">\n",
       "  <thead>\n",
       "    <tr style=\"text-align: right;\">\n",
       "      <th></th>\n",
       "      <th>drugName</th>\n",
       "      <th>condition</th>\n",
       "      <th>review</th>\n",
       "      <th>rating</th>\n",
       "      <th>usefulCount</th>\n",
       "    </tr>\n",
       "  </thead>\n",
       "  <tbody>\n",
       "    <tr>\n",
       "      <th>0</th>\n",
       "      <td>Valsartan</td>\n",
       "      <td>Left Ventricular Dysfunction</td>\n",
       "      <td>\"It has no side effect, I take it in combinati...</td>\n",
       "      <td>9.0</td>\n",
       "      <td>27</td>\n",
       "    </tr>\n",
       "    <tr>\n",
       "      <th>1</th>\n",
       "      <td>Guanfacine</td>\n",
       "      <td>ADHD</td>\n",
       "      <td>\"My son is halfway through his fourth week of ...</td>\n",
       "      <td>8.0</td>\n",
       "      <td>192</td>\n",
       "    </tr>\n",
       "    <tr>\n",
       "      <th>2</th>\n",
       "      <td>Lybrel</td>\n",
       "      <td>Birth Control</td>\n",
       "      <td>\"I used to take another oral contraceptive, wh...</td>\n",
       "      <td>5.0</td>\n",
       "      <td>17</td>\n",
       "    </tr>\n",
       "    <tr>\n",
       "      <th>3</th>\n",
       "      <td>Ortho Evra</td>\n",
       "      <td>Birth Control</td>\n",
       "      <td>\"This is my first time using any form of birth...</td>\n",
       "      <td>8.0</td>\n",
       "      <td>10</td>\n",
       "    </tr>\n",
       "    <tr>\n",
       "      <th>4</th>\n",
       "      <td>Buprenorphine / naloxone</td>\n",
       "      <td>Opiate Dependence</td>\n",
       "      <td>\"Suboxone has completely turned my life around...</td>\n",
       "      <td>9.0</td>\n",
       "      <td>37</td>\n",
       "    </tr>\n",
       "  </tbody>\n",
       "</table>\n",
       "</div>"
      ],
      "text/plain": [
       "                   drugName                     condition  \\\n",
       "0                 Valsartan  Left Ventricular Dysfunction   \n",
       "1                Guanfacine                          ADHD   \n",
       "2                    Lybrel                 Birth Control   \n",
       "3                Ortho Evra                 Birth Control   \n",
       "4  Buprenorphine / naloxone             Opiate Dependence   \n",
       "\n",
       "                                              review  rating  usefulCount  \n",
       "0  \"It has no side effect, I take it in combinati...     9.0           27  \n",
       "1  \"My son is halfway through his fourth week of ...     8.0          192  \n",
       "2  \"I used to take another oral contraceptive, wh...     5.0           17  \n",
       "3  \"This is my first time using any form of birth...     8.0           10  \n",
       "4  \"Suboxone has completely turned my life around...     9.0           37  "
      ]
     },
     "execution_count": 4,
     "metadata": {},
     "output_type": "execute_result"
    }
   ],
   "source": [
    "data.head()"
   ]
  },
  {
   "cell_type": "code",
   "execution_count": 5,
   "metadata": {},
   "outputs": [],
   "source": [
    "# Sorting the data according to the drug name\n",
    "def sort_data(data):\n",
    "    cols = list(data.columns.values)\n",
    "    cols.pop(cols.index('drugName'))\n",
    "    data = data[cols+['drugName']]\n",
    "    data = data.sort_values(by=['drugName'])\n",
    "    return data\n",
    "\n",
    "data = sort_data(train_data)"
   ]
  },
  {
   "cell_type": "code",
   "execution_count": 6,
   "metadata": {},
   "outputs": [],
   "source": [
    "# Cleaning the data\n",
    "def clean_data(data, col):\n",
    "    data[col] = data[col].str.replace(' ', '_')\n",
    "    data[col] = data[col].str.replace('-', '_')\n",
    "    data[col] = data[col].str.replace('/', '_')\n",
    "    data[col] = data[col].str.replace(',', '_')\n",
    "    data[col] = data[col].str.replace('.', '_')\n",
    "    data[col] = data[col].str.replace('(', '_')\n",
    "    data[col] = data[col].str.replace(')', '_')\n",
    "    data[col] = data[col].str.replace('[', '_')\n",
    "    data[col] = data[col].str.replace(']', '_')\n",
    "    data[col] = data[col].str.replace('<', '_')\n",
    "    data[col] = data[col].str.replace('>', '_')\n",
    "    data[col] = data[col].str.replace('=', '_')\n",
    "    data[col] = data[col].str.lower()\n",
    "    data[col] = data[col].str.replace('_____', '_')\n",
    "    data[col] = data[col].str.replace('____', '_')\n",
    "    data[col] = data[col].str.replace('___', '_')\n",
    "    data[col] = data[col].str.replace('__', '_')\n",
    "    return data"
   ]
  },
  {
   "cell_type": "code",
   "execution_count": 7,
   "metadata": {},
   "outputs": [],
   "source": [
    "data = clean_data(data, 'drugName')\n",
    "data = clean_data(data, 'condition')"
   ]
  },
  {
   "cell_type": "code",
   "execution_count": 8,
   "metadata": {},
   "outputs": [
    {
     "data": {
      "text/html": [
       "<div>\n",
       "<style scoped>\n",
       "    .dataframe tbody tr th:only-of-type {\n",
       "        vertical-align: middle;\n",
       "    }\n",
       "\n",
       "    .dataframe tbody tr th {\n",
       "        vertical-align: top;\n",
       "    }\n",
       "\n",
       "    .dataframe thead th {\n",
       "        text-align: right;\n",
       "    }\n",
       "</style>\n",
       "<table border=\"1\" class=\"dataframe\">\n",
       "  <thead>\n",
       "    <tr style=\"text-align: right;\">\n",
       "      <th></th>\n",
       "      <th>Unnamed: 0</th>\n",
       "      <th>condition</th>\n",
       "      <th>review</th>\n",
       "      <th>rating</th>\n",
       "      <th>date</th>\n",
       "      <th>usefulCount</th>\n",
       "      <th>drugName</th>\n",
       "    </tr>\n",
       "  </thead>\n",
       "  <tbody>\n",
       "    <tr>\n",
       "      <th>9892</th>\n",
       "      <td>163935</td>\n",
       "      <td>bacterial_skin_infection</td>\n",
       "      <td>\"I have severe cracked skin on my hands.  I&amp;#0...</td>\n",
       "      <td>10.0</td>\n",
       "      <td>December 7, 2009</td>\n",
       "      <td>6</td>\n",
       "      <td>a_+_d_cracked_skin_relief</td>\n",
       "    </tr>\n",
       "    <tr>\n",
       "      <th>18402</th>\n",
       "      <td>131173</td>\n",
       "      <td>otitis_media</td>\n",
       "      <td>\"It numbs the pain. It makes my ear feel heavi...</td>\n",
       "      <td>10.0</td>\n",
       "      <td>September 23, 2009</td>\n",
       "      <td>20</td>\n",
       "      <td>a_b_otic</td>\n",
       "    </tr>\n",
       "    <tr>\n",
       "      <th>67773</th>\n",
       "      <td>70690</td>\n",
       "      <td>hiv_infection</td>\n",
       "      <td>\"I was diagnosed in January 2011. My own immun...</td>\n",
       "      <td>9.0</td>\n",
       "      <td>May 1, 2017</td>\n",
       "      <td>6</td>\n",
       "      <td>abacavir_dolutegravir_lamivudine</td>\n",
       "    </tr>\n",
       "    <tr>\n",
       "      <th>68300</th>\n",
       "      <td>70730</td>\n",
       "      <td>hiv_infection</td>\n",
       "      <td>\"I recently found out about my positive status...</td>\n",
       "      <td>7.0</td>\n",
       "      <td>January 3, 2015</td>\n",
       "      <td>26</td>\n",
       "      <td>abacavir_dolutegravir_lamivudine</td>\n",
       "    </tr>\n",
       "    <tr>\n",
       "      <th>137301</th>\n",
       "      <td>70740</td>\n",
       "      <td>hiv_infection</td>\n",
       "      <td>\"I was diagnosed in 2007 and had since never h...</td>\n",
       "      <td>10.0</td>\n",
       "      <td>December 24, 2015</td>\n",
       "      <td>9</td>\n",
       "      <td>abacavir_dolutegravir_lamivudine</td>\n",
       "    </tr>\n",
       "  </tbody>\n",
       "</table>\n",
       "</div>"
      ],
      "text/plain": [
       "        Unnamed: 0                 condition  \\\n",
       "9892        163935  bacterial_skin_infection   \n",
       "18402       131173              otitis_media   \n",
       "67773        70690             hiv_infection   \n",
       "68300        70730             hiv_infection   \n",
       "137301       70740             hiv_infection   \n",
       "\n",
       "                                                   review  rating  \\\n",
       "9892    \"I have severe cracked skin on my hands.  I&#0...    10.0   \n",
       "18402   \"It numbs the pain. It makes my ear feel heavi...    10.0   \n",
       "67773   \"I was diagnosed in January 2011. My own immun...     9.0   \n",
       "68300   \"I recently found out about my positive status...     7.0   \n",
       "137301  \"I was diagnosed in 2007 and had since never h...    10.0   \n",
       "\n",
       "                      date  usefulCount                          drugName  \n",
       "9892      December 7, 2009            6         a_+_d_cracked_skin_relief  \n",
       "18402   September 23, 2009           20                          a_b_otic  \n",
       "67773          May 1, 2017            6  abacavir_dolutegravir_lamivudine  \n",
       "68300      January 3, 2015           26  abacavir_dolutegravir_lamivudine  \n",
       "137301   December 24, 2015            9  abacavir_dolutegravir_lamivudine  "
      ]
     },
     "execution_count": 8,
     "metadata": {},
     "output_type": "execute_result"
    }
   ],
   "source": [
    "data.head()"
   ]
  },
  {
   "cell_type": "code",
   "execution_count": 9,
   "metadata": {},
   "outputs": [
    {
     "data": {
      "text/plain": [
       "Unnamed: 0       0\n",
       "condition      899\n",
       "review           0\n",
       "rating           0\n",
       "date             0\n",
       "usefulCount      0\n",
       "drugName         0\n",
       "dtype: int64"
      ]
     },
     "execution_count": 9,
     "metadata": {},
     "output_type": "execute_result"
    }
   ],
   "source": [
    "# Dropping the missing values\n",
    "data.isnull().sum()"
   ]
  },
  {
   "cell_type": "code",
   "execution_count": 10,
   "metadata": {},
   "outputs": [],
   "source": [
    "data.dropna(inplace=True)"
   ]
  },
  {
   "cell_type": "code",
   "execution_count": 11,
   "metadata": {},
   "outputs": [
    {
     "data": {
      "text/plain": [
       "Unnamed: 0     0\n",
       "condition      0\n",
       "review         0\n",
       "rating         0\n",
       "date           0\n",
       "usefulCount    0\n",
       "drugName       0\n",
       "dtype: int64"
      ]
     },
     "execution_count": 11,
     "metadata": {},
     "output_type": "execute_result"
    }
   ],
   "source": [
    "data.isnull().sum()"
   ]
  },
  {
   "attachments": {},
   "cell_type": "markdown",
   "metadata": {},
   "source": [
    "## Preprocessing for Sentimental Analysis"
   ]
  },
  {
   "cell_type": "code",
   "execution_count": 12,
   "metadata": {},
   "outputs": [],
   "source": [
    "corpus = data['review']"
   ]
  },
  {
   "cell_type": "code",
   "execution_count": 13,
   "metadata": {},
   "outputs": [],
   "source": [
    "# Tokenizing the 'review' column into sequences of words using the Keras tokenizer\n",
    "from tensorflow.keras.preprocessing.sequence import pad_sequences\n",
    "from tensorflow.keras.preprocessing.text import Tokenizer"
   ]
  },
  {
   "cell_type": "code",
   "execution_count": 14,
   "metadata": {},
   "outputs": [],
   "source": [
    "tokenizer = Tokenizer(num_words=10000, oov_token='')\n",
    "tokenizer.fit_on_texts(corpus)\n",
    "X_train = tokenizer.texts_to_sequences(corpus)\n",
    "X_train = pad_sequences(X_train, maxlen=120, truncating='post')"
   ]
  },
  {
   "cell_type": "code",
   "execution_count": 15,
   "metadata": {},
   "outputs": [],
   "source": [
    "# New review sentimental analysis function\n",
    "def predict_new_review(review):\n",
    "    review = tokenizer.texts_to_sequences(review)\n",
    "    review = pad_sequences(review, maxlen=120)\n",
    "    answer = model.predict(review)\n",
    "    if answer[0][0] > 0.5:\n",
    "        print('Positive Review')\n",
    "    else:\n",
    "        print('Negative Review')"
   ]
  },
  {
   "cell_type": "code",
   "execution_count": 16,
   "metadata": {},
   "outputs": [
    {
     "name": "stdout",
     "output_type": "stream",
     "text": [
      "Keras model archive loading:\n",
      "File Name                                             Modified             Size\n",
      "config.json                                    2023-03-23 21:18:48         2921\n",
      "metadata.json                                  2023-03-23 21:18:48           64\n",
      "variables.h5                                   2023-03-23 21:18:48      3560824\n",
      "Keras weights file (<HDF5 file \"variables.h5\" (mode r)>) loading:\n",
      "...layers\n",
      "......dense\n",
      ".........vars\n",
      "............0\n",
      "............1\n",
      "......dense_1\n",
      ".........vars\n",
      "............0\n",
      "............1\n",
      "......dropout\n",
      ".........vars\n",
      "......dropout_1\n",
      ".........vars\n",
      "......embedding\n",
      ".........vars\n",
      "............0\n",
      "......lstm\n",
      ".........cell\n",
      "............vars\n",
      "...............0\n",
      "...............1\n",
      "...............2\n",
      ".........vars\n",
      "...metrics\n",
      "......mean\n",
      ".........vars\n",
      "............0\n",
      "............1\n",
      "......mean_metric_wrapper\n",
      ".........vars\n",
      "............0\n",
      "............1\n",
      "...optimizer\n",
      "......vars\n",
      ".........0\n",
      ".........1\n",
      ".........10\n",
      ".........11\n",
      ".........12\n",
      ".........13\n",
      ".........14\n",
      ".........15\n",
      ".........16\n",
      ".........2\n",
      ".........3\n",
      ".........4\n",
      ".........5\n",
      ".........6\n",
      ".........7\n",
      ".........8\n",
      ".........9\n",
      "...vars\n"
     ]
    }
   ],
   "source": [
    "# Open the saved model and use it to predict the sentiment of a new review\n",
    "import joblib\n",
    "model = joblib.load('Sentimental_Analysis_Model.sav')"
   ]
  },
  {
   "cell_type": "code",
   "execution_count": 17,
   "metadata": {},
   "outputs": [
    {
     "name": "stderr",
     "output_type": "stream",
     "text": [
      "2023-03-24 11:20:42.415042: W tensorflow/tsl/platform/profile_utils/cpu_utils.cc:128] Failed to get CPU frequency: 0 Hz\n"
     ]
    },
    {
     "name": "stdout",
     "output_type": "stream",
     "text": [
      "1/1 [==============================] - 0s 277ms/step\n",
      "Positive Review\n"
     ]
    }
   ],
   "source": [
    "# Chceking the model\n",
    "predict_new_review(['positive'])"
   ]
  },
  {
   "cell_type": "code",
   "execution_count": 18,
   "metadata": {},
   "outputs": [
    {
     "name": "stdout",
     "output_type": "stream",
     "text": [
      "5013/5013 [==============================] - 195s 39ms/step\n"
     ]
    }
   ],
   "source": [
    "data['review'] = model.predict(X_train)"
   ]
  },
  {
   "cell_type": "code",
   "execution_count": 19,
   "metadata": {},
   "outputs": [],
   "source": [
    "#exporting the data['review']\n",
    "data['review'].to_csv('Sentimental_Analysis.csv')"
   ]
  },
  {
   "cell_type": "code",
   "execution_count": 20,
   "metadata": {},
   "outputs": [],
   "source": [
    "data['review'] = pd.cut(data['review'], bins=[0, 0.5, 1], labels=['negative', 'positive'])"
   ]
  },
  {
   "cell_type": "code",
   "execution_count": 21,
   "metadata": {},
   "outputs": [
    {
     "data": {
      "text/html": [
       "<div>\n",
       "<style scoped>\n",
       "    .dataframe tbody tr th:only-of-type {\n",
       "        vertical-align: middle;\n",
       "    }\n",
       "\n",
       "    .dataframe tbody tr th {\n",
       "        vertical-align: top;\n",
       "    }\n",
       "\n",
       "    .dataframe thead th {\n",
       "        text-align: right;\n",
       "    }\n",
       "</style>\n",
       "<table border=\"1\" class=\"dataframe\">\n",
       "  <thead>\n",
       "    <tr style=\"text-align: right;\">\n",
       "      <th></th>\n",
       "      <th>Unnamed: 0</th>\n",
       "      <th>condition</th>\n",
       "      <th>review</th>\n",
       "      <th>rating</th>\n",
       "      <th>date</th>\n",
       "      <th>usefulCount</th>\n",
       "      <th>drugName</th>\n",
       "    </tr>\n",
       "  </thead>\n",
       "  <tbody>\n",
       "    <tr>\n",
       "      <th>9892</th>\n",
       "      <td>163935</td>\n",
       "      <td>bacterial_skin_infection</td>\n",
       "      <td>positive</td>\n",
       "      <td>10.0</td>\n",
       "      <td>December 7, 2009</td>\n",
       "      <td>6</td>\n",
       "      <td>a_+_d_cracked_skin_relief</td>\n",
       "    </tr>\n",
       "    <tr>\n",
       "      <th>18402</th>\n",
       "      <td>131173</td>\n",
       "      <td>otitis_media</td>\n",
       "      <td>positive</td>\n",
       "      <td>10.0</td>\n",
       "      <td>September 23, 2009</td>\n",
       "      <td>20</td>\n",
       "      <td>a_b_otic</td>\n",
       "    </tr>\n",
       "    <tr>\n",
       "      <th>67773</th>\n",
       "      <td>70690</td>\n",
       "      <td>hiv_infection</td>\n",
       "      <td>positive</td>\n",
       "      <td>9.0</td>\n",
       "      <td>May 1, 2017</td>\n",
       "      <td>6</td>\n",
       "      <td>abacavir_dolutegravir_lamivudine</td>\n",
       "    </tr>\n",
       "    <tr>\n",
       "      <th>68300</th>\n",
       "      <td>70730</td>\n",
       "      <td>hiv_infection</td>\n",
       "      <td>negative</td>\n",
       "      <td>7.0</td>\n",
       "      <td>January 3, 2015</td>\n",
       "      <td>26</td>\n",
       "      <td>abacavir_dolutegravir_lamivudine</td>\n",
       "    </tr>\n",
       "    <tr>\n",
       "      <th>137301</th>\n",
       "      <td>70740</td>\n",
       "      <td>hiv_infection</td>\n",
       "      <td>positive</td>\n",
       "      <td>10.0</td>\n",
       "      <td>December 24, 2015</td>\n",
       "      <td>9</td>\n",
       "      <td>abacavir_dolutegravir_lamivudine</td>\n",
       "    </tr>\n",
       "  </tbody>\n",
       "</table>\n",
       "</div>"
      ],
      "text/plain": [
       "        Unnamed: 0                 condition    review  rating  \\\n",
       "9892        163935  bacterial_skin_infection  positive    10.0   \n",
       "18402       131173              otitis_media  positive    10.0   \n",
       "67773        70690             hiv_infection  positive     9.0   \n",
       "68300        70730             hiv_infection  negative     7.0   \n",
       "137301       70740             hiv_infection  positive    10.0   \n",
       "\n",
       "                      date  usefulCount                          drugName  \n",
       "9892      December 7, 2009            6         a_+_d_cracked_skin_relief  \n",
       "18402   September 23, 2009           20                          a_b_otic  \n",
       "67773          May 1, 2017            6  abacavir_dolutegravir_lamivudine  \n",
       "68300      January 3, 2015           26  abacavir_dolutegravir_lamivudine  \n",
       "137301   December 24, 2015            9  abacavir_dolutegravir_lamivudine  "
      ]
     },
     "execution_count": 21,
     "metadata": {},
     "output_type": "execute_result"
    }
   ],
   "source": [
    "data.head()"
   ]
  },
  {
   "cell_type": "code",
   "execution_count": 22,
   "metadata": {},
   "outputs": [],
   "source": [
    "from sklearn.preprocessing import LabelEncoder, OneHotEncoder"
   ]
  },
  {
   "cell_type": "code",
   "execution_count": 23,
   "metadata": {},
   "outputs": [],
   "source": [
    "# Preprocess the categorical variables\n",
    "le = LabelEncoder()\n",
    "ohe = OneHotEncoder()"
   ]
  },
  {
   "cell_type": "code",
   "execution_count": 24,
   "metadata": {},
   "outputs": [],
   "source": [
    "X_wide = ohe.fit_transform(data[['condition', 'review']]).toarray()"
   ]
  },
  {
   "cell_type": "code",
   "execution_count": 25,
   "metadata": {},
   "outputs": [],
   "source": [
    "X_deep = np.hstack((ohe.fit_transform(data[['condition', 'review']]).toarray(), data[['rating', 'usefulCount']].values.reshape(-1, 2)))"
   ]
  },
  {
   "cell_type": "code",
   "execution_count": 26,
   "metadata": {},
   "outputs": [],
   "source": [
    "# Preprocess the target variable\n",
    "y = le.fit_transform(data['drugName'])"
   ]
  },
  {
   "attachments": {},
   "cell_type": "markdown",
   "metadata": {},
   "source": [
    "## Building W&DNN model"
   ]
  },
  {
   "cell_type": "code",
   "execution_count": 27,
   "metadata": {},
   "outputs": [],
   "source": [
    "from tensorflow.keras.layers import Input, Dense, Concatenate, Dropout\n",
    "from tensorflow.keras.models import Model"
   ]
  },
  {
   "cell_type": "code",
   "execution_count": 28,
   "metadata": {},
   "outputs": [],
   "source": [
    "# Define the wide and deep parts of the model\n",
    "input_wide = Input(shape=(X_wide.shape[1],))\n",
    "input_deep = Input(shape=(X_deep.shape[1],))\n",
    "hidden1 = Dense(64, activation='relu')(input_deep)\n",
    "dropout1 = Dropout(0.5)(hidden1)\n",
    "hidden2 = Dense(32, activation='relu')(dropout1)\n",
    "dropout2 = Dropout(0.5)(hidden2)\n",
    "concat = Concatenate()([input_wide, dropout2])\n",
    "output = Dense(len(le.classes_), activation='softmax')(concat)"
   ]
  },
  {
   "cell_type": "code",
   "execution_count": 29,
   "metadata": {},
   "outputs": [],
   "source": [
    "# Compile the model\n",
    "dnn = Model(inputs=[input_wide, input_deep], outputs=output)"
   ]
  },
  {
   "cell_type": "code",
   "execution_count": 30,
   "metadata": {},
   "outputs": [],
   "source": [
    "dnn.compile(optimizer='adam', loss='sparse_categorical_crossentropy', metrics=['accuracy'])"
   ]
  },
  {
   "cell_type": "code",
   "execution_count": 31,
   "metadata": {},
   "outputs": [
    {
     "name": "stdout",
     "output_type": "stream",
     "text": [
      "Epoch 1/25\n"
     ]
    },
    {
     "name": "stderr",
     "output_type": "stream",
     "text": [
      "2023-03-24 11:25:32.343318: I tensorflow/compiler/xla/service/service.cc:173] XLA service 0x16bddbdc0 initialized for platform Host (this does not guarantee that XLA will be used). Devices:\n",
      "2023-03-24 11:25:32.343340: I tensorflow/compiler/xla/service/service.cc:181]   StreamExecutor device (0): Host, Default Version\n",
      "2023-03-24 11:25:32.372282: I tensorflow/compiler/mlir/tensorflow/utils/dump_mlir_util.cc:268] disabling MLIR crash reproducer, set env var `MLIR_CRASH_REPRODUCER_DIRECTORY` to enable.\n"
     ]
    },
    {
     "name": "stdout",
     "output_type": "stream",
     "text": [
      "   5/4010 [..............................] - ETA: 2:17 - loss: 8.1504 - accuracy: 0.0000e+00 "
     ]
    },
    {
     "name": "stderr",
     "output_type": "stream",
     "text": [
      "2023-03-24 11:25:32.592861: I tensorflow/compiler/jit/xla_compilation_cache.cc:477] Compiled cluster using XLA!  This line is logged at most once for the lifetime of the process.\n"
     ]
    },
    {
     "name": "stdout",
     "output_type": "stream",
     "text": [
      "4010/4010 [==============================] - 74s 18ms/step - loss: 5.0127 - accuracy: 0.1265 - val_loss: 15.9682 - val_accuracy: 0.0000e+00\n",
      "Epoch 2/25\n",
      "4010/4010 [==============================] - 71s 18ms/step - loss: 3.7729 - accuracy: 0.1959 - val_loss: 18.9690 - val_accuracy: 0.0000e+00\n",
      "Epoch 3/25\n",
      "4010/4010 [==============================] - 71s 18ms/step - loss: 3.3654 - accuracy: 0.2105 - val_loss: 19.6035 - val_accuracy: 0.0000e+00\n",
      "Epoch 4/25\n",
      "4010/4010 [==============================] - 65s 16ms/step - loss: 3.1596 - accuracy: 0.2172 - val_loss: 19.7027 - val_accuracy: 0.0000e+00\n",
      "Epoch 5/25\n",
      "4010/4010 [==============================] - 65s 16ms/step - loss: 3.0390 - accuracy: 0.2214 - val_loss: 20.4775 - val_accuracy: 0.0000e+00\n",
      "Epoch 6/25\n",
      "4010/4010 [==============================] - 64s 16ms/step - loss: 2.9616 - accuracy: 0.2251 - val_loss: 20.3487 - val_accuracy: 0.0000e+00\n",
      "Epoch 7/25\n",
      "4010/4010 [==============================] - 68s 17ms/step - loss: 2.9063 - accuracy: 0.2274 - val_loss: 19.3489 - val_accuracy: 0.0000e+00\n",
      "Epoch 8/25\n",
      "4010/4010 [==============================] - 66s 17ms/step - loss: 2.8665 - accuracy: 0.2289 - val_loss: 19.9947 - val_accuracy: 0.0000e+00\n",
      "Epoch 9/25\n",
      "4010/4010 [==============================] - 67s 17ms/step - loss: 2.8373 - accuracy: 0.2320 - val_loss: 19.6635 - val_accuracy: 0.0000e+00\n",
      "Epoch 10/25\n",
      "4010/4010 [==============================] - 69s 17ms/step - loss: 2.8114 - accuracy: 0.2328 - val_loss: 19.3971 - val_accuracy: 0.0000e+00\n",
      "Epoch 11/25\n",
      "4010/4010 [==============================] - 72s 18ms/step - loss: 2.7938 - accuracy: 0.2321 - val_loss: 19.2451 - val_accuracy: 0.0000e+00\n",
      "Epoch 12/25\n",
      "4010/4010 [==============================] - 67s 17ms/step - loss: 2.7782 - accuracy: 0.2328 - val_loss: 19.5738 - val_accuracy: 0.0000e+00\n",
      "Epoch 13/25\n",
      "4010/4010 [==============================] - 66s 16ms/step - loss: 2.7648 - accuracy: 0.2324 - val_loss: 19.7531 - val_accuracy: 0.0000e+00\n",
      "Epoch 14/25\n",
      "4010/4010 [==============================] - 66s 16ms/step - loss: 2.7564 - accuracy: 0.2336 - val_loss: 19.7978 - val_accuracy: 0.0000e+00\n",
      "Epoch 15/25\n",
      "4010/4010 [==============================] - 67s 17ms/step - loss: 2.7432 - accuracy: 0.2341 - val_loss: 19.9088 - val_accuracy: 0.0000e+00\n",
      "Epoch 16/25\n",
      "4010/4010 [==============================] - 66s 17ms/step - loss: 2.7373 - accuracy: 0.2347 - val_loss: 19.8863 - val_accuracy: 0.0000e+00\n",
      "Epoch 17/25\n",
      "4010/4010 [==============================] - 68s 17ms/step - loss: 2.7290 - accuracy: 0.2352 - val_loss: 20.0238 - val_accuracy: 0.0000e+00\n",
      "Epoch 18/25\n",
      "4010/4010 [==============================] - 67s 17ms/step - loss: 2.7239 - accuracy: 0.2347 - val_loss: 20.0212 - val_accuracy: 0.0000e+00\n",
      "Epoch 19/25\n",
      "4010/4010 [==============================] - 67s 17ms/step - loss: 2.7189 - accuracy: 0.2358 - val_loss: 19.9748 - val_accuracy: 0.0000e+00\n",
      "Epoch 20/25\n",
      "4010/4010 [==============================] - 66s 16ms/step - loss: 2.7120 - accuracy: 0.2353 - val_loss: 20.1408 - val_accuracy: 0.0000e+00\n",
      "Epoch 21/25\n",
      "4010/4010 [==============================] - 66s 16ms/step - loss: 2.7068 - accuracy: 0.2365 - val_loss: 20.1093 - val_accuracy: 0.0000e+00\n",
      "Epoch 22/25\n",
      "4010/4010 [==============================] - 66s 16ms/step - loss: 2.7044 - accuracy: 0.2361 - val_loss: 20.3200 - val_accuracy: 0.0000e+00\n",
      "Epoch 23/25\n",
      "4010/4010 [==============================] - 66s 16ms/step - loss: 2.6983 - accuracy: 0.2366 - val_loss: 20.2910 - val_accuracy: 0.0000e+00\n",
      "Epoch 24/25\n",
      "4010/4010 [==============================] - 67s 17ms/step - loss: 2.6967 - accuracy: 0.2360 - val_loss: 20.3146 - val_accuracy: 0.0000e+00\n",
      "Epoch 25/25\n",
      "4010/4010 [==============================] - 66s 17ms/step - loss: 2.6928 - accuracy: 0.2367 - val_loss: 20.3806 - val_accuracy: 0.0000e+00\n"
     ]
    },
    {
     "data": {
      "text/plain": [
       "<keras.callbacks.History at 0x298492080>"
      ]
     },
     "execution_count": 31,
     "metadata": {},
     "output_type": "execute_result"
    }
   ],
   "source": [
    "# Train the model\n",
    "dnn.fit([X_wide, X_deep], y, validation_split=0.2, epochs=25, batch_size=32)"
   ]
  },
  {
   "cell_type": "code",
   "execution_count": 33,
   "metadata": {},
   "outputs": [
    {
     "name": "stdout",
     "output_type": "stream",
     "text": [
      "1/1 [==============================] - 0s 53ms/step\n",
      "The predicted drug is: etonogestrel\n"
     ]
    }
   ],
   "source": [
    "# Define the new input\n",
    "condition = \"birth_control\"\n",
    "review = \"positive\"\n",
    "rating = 8\n",
    "usefulCount = 5\n",
    "\n",
    "# Preprocess the new input\n",
    "new_wide = ohe.transform([[condition, review]]).toarray()\n",
    "new_deep = np.hstack((ohe.transform([[condition, review]]).toarray(), np.array([rating, usefulCount]).reshape(-1, 2)))\n",
    "\n",
    "# Predict the new input\n",
    "prediction = dnn.predict([new_wide, new_deep])\n",
    "predicted_drug_index = np.argmax(prediction)\n",
    "predicted_drug = le.inverse_transform([predicted_drug_index])[0]\n",
    "print('The predicted drug is: {}'.format(predicted_drug))"
   ]
  },
  {
   "cell_type": "markdown",
   "metadata": {},
   "source": [
    "## Export model using pikle"
   ]
  },
  {
   "cell_type": "code",
   "execution_count": 34,
   "metadata": {},
   "outputs": [
    {
     "name": "stdout",
     "output_type": "stream",
     "text": [
      "Keras weights file (<HDF5 file \"variables.h5\" (mode r+)>) saving:\n",
      "...layers\n",
      "......dense\n",
      ".........vars\n",
      "............0\n",
      "............1\n",
      "......dense_1\n",
      ".........vars\n",
      "............0\n",
      "............1\n",
      "......dropout\n",
      ".........vars\n",
      "......dropout_1\n",
      ".........vars\n",
      "......embedding\n",
      ".........vars\n",
      "............0\n",
      "......lstm\n",
      ".........cell\n",
      "............vars\n",
      "...............0\n",
      "...............1\n",
      "...............2\n",
      ".........vars\n",
      "...optimizer\n",
      "......vars\n",
      ".........0\n",
      "...vars\n",
      "Keras model archive saving:\n",
      "File Name                                             Modified             Size\n",
      "config.json                                    2023-03-24 11:54:37         2921\n",
      "metadata.json                                  2023-03-24 11:54:37           64\n",
      "variables.h5                                   2023-03-24 11:54:37      1197448\n"
     ]
    }
   ],
   "source": [
    "import pickle\n",
    "filename = 'Drug_Prediction.sav'\n",
    "pickle.dump(model, open(filename, 'wb'))"
   ]
  },
  {
   "cell_type": "code",
   "execution_count": 35,
   "metadata": {},
   "outputs": [],
   "source": [
    "#open the saved model and use it to predict the sentiment of a new review\n",
    "# import joblib\n",
    "# model = joblib.load('Sentimental_Analysis_Model.sav')\n",
    "# predict_new_review(['positive'])"
   ]
  }
 ],
 "metadata": {
  "kernelspec": {
   "display_name": "base",
   "language": "python",
   "name": "python3"
  },
  "language_info": {
   "codemirror_mode": {
    "name": "ipython",
    "version": 3
   },
   "file_extension": ".py",
   "mimetype": "text/x-python",
   "name": "python",
   "nbconvert_exporter": "python",
   "pygments_lexer": "ipython3",
   "version": "3.10.9"
  },
  "orig_nbformat": 4
 },
 "nbformat": 4,
 "nbformat_minor": 2
}
